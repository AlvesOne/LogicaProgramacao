{
 "cells": [
  {
   "cell_type": "code",
   "execution_count": 3,
   "metadata": {},
   "outputs": [
    {
     "name": "stdout",
     "output_type": "stream",
     "text": [
      "A subtração de 133 - 10 é iqual a: 123.\n",
      "A divisão de 133 / 10 e iqual a: 13.3.\n"
     ]
    }
   ],
   "source": [
    "# 1 questão\n",
    "x = 133\n",
    "y = 10\n",
    "print(f\"A subtração de {x} - {y} é iqual a: {x - y}.\")\n",
    "print(f\"A divisão de {x} / {y} e iqual a: {x/y}.\")"
   ]
  },
  {
   "cell_type": "code",
   "execution_count": 4,
   "metadata": {},
   "outputs": [
    {
     "name": "stdout",
     "output_type": "stream",
     "text": [
      "maçã\n",
      "manga\n",
      "laranja\n",
      "abacate\n"
     ]
    }
   ],
   "source": [
    "# 2 questão\n",
    "listFrut = [\"maçã\", \"manga\", \"laranja\", \"abacate\"]\n",
    "for x in listFrut:\n",
    "    print(x)"
   ]
  },
  {
   "cell_type": "code",
   "execution_count": 13,
   "metadata": {},
   "outputs": [
    {
     "name": "stdout",
     "output_type": "stream",
     "text": [
      "A altura é: 1.80\n"
     ]
    }
   ],
   "source": [
    "# 3 questão\n",
    "dados = {\"Nome\" : \"Rodrigo\",\n",
    "         \"Idade\" : \"34\",\n",
    "         \"Altura\" : \"1.80\"\n",
    "         }\n",
    "print(\"A altura é:\",dados[\"Altura\"])"
   ]
  },
  {
   "cell_type": "code",
   "execution_count": 16,
   "metadata": {},
   "outputs": [
    {
     "name": "stdout",
     "output_type": "stream",
     "text": [
      "Se tever a altura maior que 1.40 estará liberado.\n"
     ]
    }
   ],
   "source": [
    "# 4 questão\n",
    "altura = 1.80\n",
    "if altura >=1.40:\n",
    "    print(\"Se tever a altura maior que 1.40 estará liberado.\")"
   ]
  },
  {
   "cell_type": "code",
   "execution_count": 22,
   "metadata": {},
   "outputs": [
    {
     "name": "stdout",
     "output_type": "stream",
     "text": [
      "Temperatura alta\n"
     ]
    }
   ],
   "source": [
    "# 5 questão\n",
    "temper = 60\n",
    "if temper < 0:\n",
    "    print(\"Temperatura invalida\")\n",
    "elif temper >= 0 and temper <= 35:\n",
    "    print(\"Temperatura baixa\")\n",
    "elif temper >= 36 and temper <= 57:\n",
    "    print(\"Temperatura mediana\")\n",
    "elif temper >= 58 and temper <= 72:\n",
    "    print(\"Temperatura alta\")\n",
    "else:\n",
    "    print(\"Temperatura extrema\")"
   ]
  },
  {
   "cell_type": "code",
   "execution_count": 23,
   "metadata": {},
   "outputs": [
    {
     "name": "stdout",
     "output_type": "stream",
     "text": [
      "4\n",
      "5\n",
      "6\n",
      "7\n",
      "8\n",
      "9\n",
      "10\n",
      "11\n",
      "12\n"
     ]
    }
   ],
   "source": [
    "# 6 questão\n",
    "cont = 4\n",
    "while cont <= 12:\n",
    "    print(cont)\n",
    "    cont = cont + 1"
   ]
  },
  {
   "cell_type": "code",
   "execution_count": 24,
   "metadata": {},
   "outputs": [
    {
     "name": "stdout",
     "output_type": "stream",
     "text": [
      "1\n",
      "3\n",
      "5\n",
      "7\n",
      "9\n"
     ]
    }
   ],
   "source": [
    "# 7 questão\n",
    "numero = [1, 2, 3, 4, 5, 6, 7, 8, 9, 10]\n",
    "for x in numero:\n",
    "    if x % 2 !=0:\n",
    "        print(x)"
   ]
  },
  {
   "cell_type": "code",
   "execution_count": 25,
   "metadata": {},
   "outputs": [
    {
     "name": "stdout",
     "output_type": "stream",
     "text": [
      "Abacaxi\n",
      "Jaca\n"
     ]
    }
   ],
   "source": [
    "# 8 questão\n",
    "fruta = [\"Abacaxi\", \"Morango\", \"Jaca\"]\n",
    "print(fruta[0])\n",
    "print(fruta[2])"
   ]
  },
  {
   "cell_type": "code",
   "execution_count": 30,
   "metadata": {},
   "outputs": [
    {
     "name": "stdout",
     "output_type": "stream",
     "text": [
      "-1\n",
      "-2\n",
      "-3\n",
      "-4\n",
      "-5\n",
      "-6\n",
      "-7\n",
      "-8\n",
      "-9\n",
      "-10\n"
     ]
    }
   ],
   "source": [
    "# 9 questão\n",
    "for x in range(-1, -11, -1):\n",
    "    print(x)"
   ]
  },
  {
   "cell_type": "code",
   "execution_count": 31,
   "metadata": {},
   "outputs": [
    {
     "name": "stdout",
     "output_type": "stream",
     "text": [
      "O professor vai pagar a coxinha.\n"
     ]
    }
   ],
   "source": [
    "# 10 questão\n",
    "lanche = [\"Bomba\", \"Empada\", \"Esfirra\", \"Coxinha\"]\n",
    "if \"Coxinha\" in lanche:\n",
    "    print(\"O professor vai pagar a coxinha.\")"
   ]
  }
 ],
 "metadata": {
  "kernelspec": {
   "display_name": "Python 3",
   "language": "python",
   "name": "python3"
  },
  "language_info": {
   "codemirror_mode": {
    "name": "ipython",
    "version": 3
   },
   "file_extension": ".py",
   "mimetype": "text/x-python",
   "name": "python",
   "nbconvert_exporter": "python",
   "pygments_lexer": "ipython3",
   "version": "3.12.0"
  }
 },
 "nbformat": 4,
 "nbformat_minor": 2
}
