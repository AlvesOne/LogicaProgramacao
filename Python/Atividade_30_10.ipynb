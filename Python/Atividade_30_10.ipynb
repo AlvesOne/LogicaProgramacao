{
 "cells": [
  {
   "cell_type": "code",
   "execution_count": 1,
   "metadata": {},
   "outputs": [
    {
     "name": "stdout",
     "output_type": "stream",
     "text": [
      "8\n"
     ]
    }
   ],
   "source": [
    "# 1 questão\n",
    "numero1 = int(input(\"Insira o primeiro número\"))\n",
    "numero2 = int(input(\"Insira o segundo numero\"))\n",
    "print(numero1 + numero2)"
   ]
  },
  {
   "cell_type": "code",
   "execution_count": 9,
   "metadata": {},
   "outputs": [
    {
     "name": "stdout",
     "output_type": "stream",
     "text": [
      "Incorreto\n"
     ]
    }
   ],
   "source": [
    "# 2 questão\n",
    "fruta = \"banana\"\n",
    "seu_palpite = input(\"Adivinhe a fruta\")\n",
    "if seu_palpite==fruta:\n",
    "    print(\"Correto!\")\n",
    "else:\n",
    "    print(\"Incorreto!\")"
   ]
  },
  {
   "cell_type": "code",
   "execution_count": 20,
   "metadata": {},
   "outputs": [
    {
     "name": "stdout",
     "output_type": "stream",
     "text": [
      "Dentro do intervalo!\n"
     ]
    }
   ],
   "source": [
    "# 3 questão\n",
    "numero = int(input(\"Insira um número\"))\n",
    "if numero>=1 and numero<=10:\n",
    "    print(\"Dentro do intervalo!\")\n",
    "else:\n",
    "    print(\"Fora do intervalo\")"
   ]
  },
  {
   "cell_type": "code",
   "execution_count": 16,
   "metadata": {},
   "outputs": [
    {
     "name": "stdout",
     "output_type": "stream",
     "text": [
      "Saldo zero\n"
     ]
    }
   ],
   "source": [
    "# 4 questão\n",
    "saldo = 100.0\n",
    "if saldo>0:\n",
    "    print(\"Saldo positivo\")\n",
    "elif saldo==0:\n",
    "    print(\"Saldo zero\")\n",
    "else:\n",
    "    print(\"Saldo negativo\")"
   ]
  },
  {
   "cell_type": "code",
   "execution_count": 17,
   "metadata": {},
   "outputs": [
    {
     "name": "stdout",
     "output_type": "stream",
     "text": [
      "A temperatura em fahrenheit é: 77.9\n"
     ]
    }
   ],
   "source": [
    "# 5 questão\n",
    "temperatura = 25.5\n",
    "fahrenheit = temperatura*9/5+32\n",
    "print(\"A temperatura em fahrenheit é:\", fahrenheit)"
   ]
  },
  {
   "cell_type": "code",
   "execution_count": 23,
   "metadata": {},
   "outputs": [
    {
     "name": "stdout",
     "output_type": "stream",
     "text": [
      "Numero impar\n"
     ]
    }
   ],
   "source": [
    "# questão teste\n",
    "numero = int(input(\"insira um número\"))\n",
    "if numero%2==0:\n",
    "    print(\"Número par\")\n",
    "else:\n",
    "    print(\"Numero impar\")"
   ]
  }
 ],
 "metadata": {
  "kernelspec": {
   "display_name": "Python 3",
   "language": "python",
   "name": "python3"
  },
  "language_info": {
   "codemirror_mode": {
    "name": "ipython",
    "version": 3
   },
   "file_extension": ".py",
   "mimetype": "text/x-python",
   "name": "python",
   "nbconvert_exporter": "python",
   "pygments_lexer": "ipython3",
   "version": "3.12.0"
  }
 },
 "nbformat": 4,
 "nbformat_minor": 2
}
