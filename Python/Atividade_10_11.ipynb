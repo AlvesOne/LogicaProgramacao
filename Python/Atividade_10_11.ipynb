{
 "cells": [
  {
   "cell_type": "code",
   "execution_count": 11,
   "metadata": {},
   "outputs": [
    {
     "name": "stdout",
     "output_type": "stream",
     "text": [
      "A soma dos valores é: 43.É a multiplicação desses valoresé:330.\n"
     ]
    }
   ],
   "source": [
    "# 1 questão\n",
    "a = 10\n",
    "b = 33\n",
    "print(f\"A soma dos valores é: {a + b}.É a multiplicação desses valoresé:{a * b}.\")"
   ]
  },
  {
   "cell_type": "code",
   "execution_count": 12,
   "metadata": {},
   "outputs": [
    {
     "name": "stdout",
     "output_type": "stream",
     "text": [
      "vermelho\n",
      "preto\n",
      "branco\n",
      "azul\n",
      "amarelo\n"
     ]
    }
   ],
   "source": [
    "# 2 questão\n",
    "listaCor = [\"vermelho\", \"preto\", \"branco\", \"azul\", \"amarelo\"]\n",
    "for x in listaCor:\n",
    "    print(x)"
   ]
  },
  {
   "cell_type": "code",
   "execution_count": 13,
   "metadata": {},
   "outputs": [
    {
     "name": "stdout",
     "output_type": "stream",
     "text": [
      "Brasilia\n"
     ]
    }
   ],
   "source": [
    "#3 questão\n",
    "dicioPaises = {\"Argentina\" : \"Buenos Aires\",\n",
    "               \"Estados Unidos\" : \"washington\",\n",
    "               \"Brasil\" : \"Brasilia\"}\n",
    "x = dicioPaises[\"Brasil\"]\n",
    "print(x)"
   ]
  },
  {
   "cell_type": "code",
   "execution_count": 16,
   "metadata": {},
   "outputs": [
    {
     "name": "stdout",
     "output_type": "stream",
     "text": [
      "Maior de idade\n"
     ]
    }
   ],
   "source": [
    "# 4 questão\n",
    "idade = 19\n",
    "if idade>18:\n",
    "    print(\"Maior de idade\")\n",
    "else:\n",
    "    print(\"Menor de idade\")"
   ]
  },
  {
   "cell_type": "code",
   "execution_count": 21,
   "metadata": {},
   "outputs": [
    {
     "name": "stdout",
     "output_type": "stream",
     "text": [
      "Boa tarde\n"
     ]
    }
   ],
   "source": [
    "# 5 questão\n",
    "hora = 14\n",
    "if hora>= 00 and hora <= 5:\n",
    "    print(\"Boa madrugada\")\n",
    "elif hora>= 6 and hora<= 11:\n",
    "    print(\"Bom dia\")\n",
    "elif hora>= 12 and hora <= 17:\n",
    "    print(\"Boa tarde\")\n",
    "else:\n",
    "    print(\"Boa noite\")"
   ]
  },
  {
   "cell_type": "code",
   "execution_count": 51,
   "metadata": {},
   "outputs": [
    {
     "name": "stdout",
     "output_type": "stream",
     "text": [
      "1\n",
      "2\n",
      "3\n",
      "4\n",
      "5\n"
     ]
    }
   ],
   "source": [
    "# 6 questão\n",
    "cont = 1\n",
    "while cont <=5:\n",
    "    print(cont)\n",
    "    cont = cont + 1"
   ]
  },
  {
   "cell_type": "code",
   "execution_count": 33,
   "metadata": {},
   "outputs": [
    {
     "name": "stdout",
     "output_type": "stream",
     "text": [
      "0\n",
      "2\n",
      "4\n",
      "6\n",
      "8\n",
      "10\n"
     ]
    }
   ],
   "source": [
    "# 7 questão\n",
    "listaNu = [0,1, 2, 3, 4, 5, 6, 7, 8, 9, 10, 11]\n",
    "for listaNu in range(0, 11, 2):\n",
    "    print(listaNu)"
   ]
  },
  {
   "cell_type": "code",
   "execution_count": 44,
   "metadata": {},
   "outputs": [
    {
     "name": "stdout",
     "output_type": "stream",
     "text": [
      "manga\n",
      "goiaba\n"
     ]
    }
   ],
   "source": [
    "# 8 questão\n",
    "listFruta = [\"manga\", \"cajú\", \"goiaba\"]\n",
    "print(listFruta[0])\n",
    "print(listFruta[2])"
   ]
  },
  {
   "cell_type": "code",
   "execution_count": 52,
   "metadata": {},
   "outputs": [
    {
     "name": "stdout",
     "output_type": "stream",
     "text": [
      "1\n",
      "2\n",
      "3\n",
      "4\n",
      "5\n",
      "6\n",
      "7\n",
      "8\n",
      "9\n",
      "10\n"
     ]
    }
   ],
   "source": [
    "# 9 questão\n",
    "for numero in range(1, 11):\n",
    "    print(numero)"
   ]
  },
  {
   "cell_type": "code",
   "execution_count": 55,
   "metadata": {},
   "outputs": [
    {
     "name": "stdout",
     "output_type": "stream",
     "text": [
      "Sim, gato faz parte da lista animais.\n"
     ]
    }
   ],
   "source": [
    "# 10 questão\n",
    "listAnimais = [\"cachorro\",\"papagaio\",\"vaca\", \"gato\"]\n",
    "if \"gato\" in listAnimais:\n",
    "    print(\"Sim, gato faz parte da lista animais.\")"
   ]
  },
  {
   "cell_type": "code",
   "execution_count": 58,
   "metadata": {},
   "outputs": [
    {
     "name": "stdout",
     "output_type": "stream",
     "text": [
      "1\n",
      "2\n",
      "3\n",
      "4\n"
     ]
    }
   ],
   "source": [
    "# 11 questão\n",
    "contador = 1\n",
    "\n",
    "while contador <= 10:\n",
    "  if contador == 5:\n",
    "    break\n",
    "  print(contador)\n",
    "  contador = contador + 1"
   ]
  },
  {
   "cell_type": "code",
   "execution_count": 40,
   "metadata": {},
   "outputs": [
    {
     "name": "stdout",
     "output_type": "stream",
     "text": [
      "Esse numero e par\n"
     ]
    }
   ],
   "source": [
    "# 12 questão\n",
    "numero = 8\n",
    "if numero % 2 ==0:\n",
    "    print(\"Esse numero e par\")\n",
    "else:\n",
    "    print(\"Esse numero e impar\")"
   ]
  },
  {
   "cell_type": "code",
   "execution_count": 59,
   "metadata": {},
   "outputs": [
    {
     "name": "stdout",
     "output_type": "stream",
     "text": [
      "Hoje é Segunda-feira e vou fazer Lavar louça\n",
      "Hoje é Terça-feira e vou fazer limpar casa\n",
      "Hoje é Quarta-feira e vou fazer lavar roupa\n",
      "Hoje é Quinta-feira e vou fazer passar roupa\n",
      "Hoje é Sexta-feira e vou fazer fazer comida\n"
     ]
    }
   ],
   "source": [
    "# 13 questão\n",
    "diasSemana = [\"Segunda-feira\", \"Terça-feira\",\"Quarta-feira\",\"Quinta-feira\",\"Sexta-feira\"]\n",
    "tarefasFazer = [\"Lavar louça\", \"limpar casa\", \"lavar roupa\", \"passar roupa\", \"fazer comida\"]\n",
    "for x in range(len(diasSemana)):\n",
    "    print(f\"Hoje é {diasSemana[x]} e vou fazer {tarefasFazer[x]}\")"
   ]
  }
 ],
 "metadata": {
  "kernelspec": {
   "display_name": "Python 3",
   "language": "python",
   "name": "python3"
  },
  "language_info": {
   "codemirror_mode": {
    "name": "ipython",
    "version": 3
   },
   "file_extension": ".py",
   "mimetype": "text/x-python",
   "name": "python",
   "nbconvert_exporter": "python",
   "pygments_lexer": "ipython3",
   "version": "3.12.0"
  }
 },
 "nbformat": 4,
 "nbformat_minor": 2
}
