{
 "cells": [
  {
   "cell_type": "code",
   "execution_count": null,
   "metadata": {},
   "outputs": [],
   "source": [
    "marca = \"toyota\"\n",
    "modelo = \"corolla\"\n",
    "\n",
    "if marca == \"toyota\":\n",
    "  if modelo==\"corolla\":\n",
    "    print(\"R$ 154.990,00\")\n",
    "  elif modelo==\"hilux\":\n",
    "    print(\"R$ 273.090,00\")\n",
    "  else:\n",
    "    print(\"Modelo não encontrado\")\n",
    "elif marca == \"honda\":\n",
    "  if modelo==\"civic\":\n",
    "    print(\"R$ 244.900,00\")\n",
    "  elif modelo==\"hrv\":\n",
    "    print(\"R$ 194.800,00\")\n",
    "  else:\n",
    "    print(\"Modelo não encontrado\")\n",
    "elif marca == \"volkswagen\":\n",
    "  if modelo==\"gol\":\n",
    "    print(\"R$ 75.490,00\")\n",
    "  elif modelo==\"polo\":\n",
    "    print(\"R$ 95.990,00\")\n",
    "  else:\n",
    "    print(\"Modelo não encontrado\")\n",
    "elif marca == \"fiat\":\n",
    "  if modelo==\"argo\":\n",
    "    print(\"R$ 79.790,00\")\n",
    "  elif modelo==\"hilux\":\n",
    "    print(\"R$ 99.990,00\")\n",
    "  else:\n",
    "    print(\"Modelo não encontrado\")\n",
    "else:\n",
    "  print(\"Não existe esta marca\")"
   ]
  },
  {
   "cell_type": "code",
   "execution_count": 3,
   "metadata": {},
   "outputs": [
    {
     "name": "stdout",
     "output_type": "stream",
     "text": [
      "1\n",
      "3\n",
      "5\n",
      "7\n",
      "9\n"
     ]
    }
   ],
   "source": [
    "# Estrutura Repetição WHILE\n",
    "\n",
    "x = 1\n",
    "\n",
    "while x <= 10:\n",
    "  print(x)\n",
    "  x = x + 1     #   x = x + 1 'ou' x += 1\n",
    "  x += 1"
   ]
  },
  {
   "cell_type": "code",
   "execution_count": 1,
   "metadata": {},
   "outputs": [
    {
     "name": "stdout",
     "output_type": "stream",
     "text": [
      "O somatório total dos valores é de: 10\n"
     ]
    }
   ],
   "source": [
    "# Acumulador de valores\n",
    "\n",
    "somatorio = 0\n",
    "contador = 1\n",
    "\n",
    "while contador <= 10:\n",
    "  valor = int(input(\"Digite um valor\"))\n",
    "  somatorio = somatorio + valor\n",
    "  contador = contador + 1\n",
    "\n",
    "print(f\"O somatório total dos valores é de: {somatorio}\")"
   ]
  },
  {
   "cell_type": "code",
   "execution_count": null,
   "metadata": {},
   "outputs": [],
   "source": [
    "# Interrupção da execução do WHILE\n",
    "\n",
    "somatorio = 0\n",
    "contador = 1\n",
    "\n",
    "while contador <= 10:\n",
    "  valor = int(input(\"Digite um valor\"))\n",
    "  if valor == 0:\n",
    "    break\n",
    "  somatorio = somatorio + valor\n",
    "  contador = contador + 1\n",
    "\n",
    "print(f\"O somatório total dos valores é de: {somatorio}\")"
   ]
  },
  {
   "cell_type": "code",
   "execution_count": null,
   "metadata": {},
   "outputs": [],
   "source": [
    "x = 1 \n",
    "print(\"oi 0\")\n",
    "while x <=4:\n",
    "    print(\"oi\", x)\n",
    "print(\"oi 5\")\n",
    "if x==6:\n",
    "    print(\"oi 6\")"
   ]
  },
  {
   "cell_type": "code",
   "execution_count": null,
   "metadata": {},
   "outputs": [],
   "source": [
    "x = 0\n",
    "while True:\n",
    "    print(\"oi\", x)\n",
    "    x = x + 1"
   ]
  },
  {
   "cell_type": "code",
   "execution_count": 3,
   "metadata": {},
   "outputs": [
    {
     "name": "stdout",
     "output_type": "stream",
     "text": [
      "0\n",
      "1\n",
      "2\n",
      "3\n",
      "4\n",
      "5\n"
     ]
    }
   ],
   "source": [
    "x = 0\n",
    "while x<=5:\n",
    "    print(x)\n",
    "    x = x + 1"
   ]
  },
  {
   "cell_type": "code",
   "execution_count": 4,
   "metadata": {},
   "outputs": [
    {
     "name": "stdout",
     "output_type": "stream",
     "text": [
      "Olá mundo 0\n",
      "Olá mundo 1\n",
      "Olá mundo 2\n",
      "Olá mundo 3\n",
      "Olá mundo 4\n",
      "Olá mundo 5\n"
     ]
    }
   ],
   "source": [
    "x = 0\n",
    "while x<=5:\n",
    "    print(\"Olá mundo\", x)\n",
    "    x = x + 1"
   ]
  },
  {
   "cell_type": "code",
   "execution_count": 5,
   "metadata": {},
   "outputs": [
    {
     "name": "stdout",
     "output_type": "stream",
     "text": [
      "Olá mundo 10\n",
      "Olá mundo 11\n",
      "Olá mundo 12\n",
      "Olá mundo 13\n",
      "Olá mundo 14\n",
      "Olá mundo 15\n"
     ]
    }
   ],
   "source": [
    "x = 10\n",
    "while x<=15:\n",
    "    print(\"Olá mundo\", x)\n",
    "    x = x + 1"
   ]
  },
  {
   "cell_type": "code",
   "execution_count": 15,
   "metadata": {},
   "outputs": [
    {
     "name": "stdout",
     "output_type": "stream",
     "text": [
      "A soma de todos dos valores é de: 5\n"
     ]
    }
   ],
   "source": [
    "x = 0\n",
    "soma = 1\n",
    "\n",
    "while soma <= 5:\n",
    "  valor = int(input(\"Digite um valor\"))\n",
    "  soma = soma + valor\n",
    "  x = x + 1\n",
    "print(\"A soma de todos dos valores é de:\", x)"
   ]
  },
  {
   "cell_type": "code",
   "execution_count": null,
   "metadata": {},
   "outputs": [],
   "source": [
    "x = 0\n",
    "while x <=10:\n",
    "    x = int(input(\"Digite um valor\"))\n",
    "    print(x)"
   ]
  }
 ],
 "metadata": {
  "kernelspec": {
   "display_name": "Python 3",
   "language": "python",
   "name": "python3"
  },
  "language_info": {
   "codemirror_mode": {
    "name": "ipython",
    "version": 3
   },
   "file_extension": ".py",
   "mimetype": "text/x-python",
   "name": "python",
   "nbconvert_exporter": "python",
   "pygments_lexer": "ipython3",
   "version": "3.12.0"
  },
  "orig_nbformat": 4
 },
 "nbformat": 4,
 "nbformat_minor": 2
}
