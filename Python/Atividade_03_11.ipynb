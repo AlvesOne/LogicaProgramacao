{
 "cells": [
  {
   "cell_type": "code",
   "execution_count": 12,
   "metadata": {},
   "outputs": [
    {
     "name": "stdout",
     "output_type": "stream",
     "text": [
      "6\n"
     ]
    }
   ],
   "source": [
    "# 1 questão\n",
    "contador = 1\n",
    "total = 0\n",
    "while contador <=5:\n",
    "    contador = contador + 1\n",
    "    valor = int(input(\"Digite um valor\"))\n",
    "    if valor%2==0:\n",
    "        total = total + valor\n",
    "print(total)"
   ]
  },
  {
   "cell_type": "code",
   "execution_count": 18,
   "metadata": {},
   "outputs": [
    {
     "name": "stdout",
     "output_type": "stream",
     "text": [
      "23\n",
      "22\n",
      "21\n",
      "20\n",
      "19\n",
      " O maior número inserido é: 23\n"
     ]
    }
   ],
   "source": [
    "# 2 questão\n",
    "maior_nemero = 0\n",
    "contador = 1\n",
    "while contador<=5:\n",
    "    numero = int(input(\"Insira um numero\"))\n",
    "    print(numero)\n",
    "    if numero > maior_nemero:\n",
    "        maior_nemero = numero\n",
    "    contador = contador + 1\n",
    "print(\" O maior número inserido é:\", maior_nemero)"
   ]
  },
  {
   "cell_type": "code",
   "execution_count": 19,
   "metadata": {},
   "outputs": [
    {
     "name": "stdout",
     "output_type": "stream",
     "text": [
      "1\n",
      "3\n",
      "5\n",
      "7\n",
      "9\n"
     ]
    }
   ],
   "source": [
    "# 3 questão\n",
    "cont = 1\n",
    "while cont <=10:\n",
    "    if cont % 2 != 0:\n",
    "        print(cont)\n",
    "    cont = cont + 1"
   ]
  },
  {
   "cell_type": "code",
   "execution_count": 22,
   "metadata": {},
   "outputs": [
    {
     "name": "stdout",
     "output_type": "stream",
     "text": [
      "2\n",
      "3\n"
     ]
    }
   ],
   "source": [
    "# 4 questão\n",
    "cont = 1\n",
    "valor = int(input(\"insira um valor\"))\n",
    "while cont<=valor:\n",
    "    cont = cont +1\n",
    "    print(cont)"
   ]
  }
 ],
 "metadata": {
  "kernelspec": {
   "display_name": "Python 3",
   "language": "python",
   "name": "python3"
  },
  "language_info": {
   "codemirror_mode": {
    "name": "ipython",
    "version": 3
   },
   "file_extension": ".py",
   "mimetype": "text/x-python",
   "name": "python",
   "nbconvert_exporter": "python",
   "pygments_lexer": "ipython3",
   "version": "3.12.0"
  }
 },
 "nbformat": 4,
 "nbformat_minor": 2
}
